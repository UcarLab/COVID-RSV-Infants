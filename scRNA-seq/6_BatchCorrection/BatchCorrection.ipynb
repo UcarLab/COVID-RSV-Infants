{
 "cells": [
  {
   "cell_type": "code",
   "execution_count": 1,
   "metadata": {},
   "outputs": [],
   "source": [
    "import pandas as pd\n",
    "import numpy as np\n",
    "import scanpy as sc\n",
    "from matplotlib.pyplot import rc_context\n",
    "sc.settings.verbosity = 3\n",
    "\n"
   ]
  },
  {
   "cell_type": "code",
   "execution_count": 2,
   "metadata": {},
   "outputs": [],
   "source": [
    "mergeddata = sc.read(\"/Users/athib/Desktop/CovidRSV/scRNA2/Merged_QC.h5ad\")\n"
   ]
  },
  {
   "cell_type": "code",
   "execution_count": 3,
   "metadata": {},
   "outputs": [
    {
     "name": "stdout",
     "output_type": "stream",
     "text": [
      "filtered out 8158 genes that are detected in less than 5 cells\n"
     ]
    }
   ],
   "source": [
    "sc.pp.filter_genes(mergeddata, min_cells=5)\n"
   ]
  },
  {
   "cell_type": "code",
   "execution_count": 4,
   "metadata": {},
   "outputs": [],
   "source": [
    "mergeddata.var['mt'] = mergeddata.var_names.str.startswith('MT-')\n",
    "sc.pp.calculate_qc_metrics(mergeddata, qc_vars=['mt'], percent_top=None, log1p=False, inplace=True)\n"
   ]
  },
  {
   "cell_type": "code",
   "execution_count": 5,
   "metadata": {},
   "outputs": [
    {
     "name": "stdout",
     "output_type": "stream",
     "text": [
      "extracting highly variable genes\n",
      "    finished (0:00:40)\n",
      "--> added\n",
      "    'highly_variable', boolean vector (adata.var)\n",
      "    'means', float vector (adata.var)\n",
      "    'dispersions', float vector (adata.var)\n",
      "    'dispersions_norm', float vector (adata.var)\n"
     ]
    }
   ],
   "source": [
    "sc.pp.highly_variable_genes(mergeddata, batch_key='batch')\n"
   ]
  },
  {
   "cell_type": "code",
   "execution_count": 8,
   "metadata": {},
   "outputs": [],
   "source": [
    "mergeddata.obs.rename(columns={\"batch\": \"sample\"}, inplace=True)"
   ]
  },
  {
   "cell_type": "code",
   "execution_count": 9,
   "metadata": {},
   "outputs": [],
   "source": [
    "metadata =pd.read_csv(\"/Users/athib/Desktop/CovidRSV/scRNA2/BatchCorrection_MetaData/CovidRSVScanpyMetadata.csv\")"
   ]
  },
  {
   "cell_type": "code",
   "execution_count": 10,
   "metadata": {},
   "outputs": [
    {
     "name": "stderr",
     "output_type": "stream",
     "text": [
      "/Library/Frameworks/Python.framework/Versions/3.7/lib/python3.7/site-packages/ipykernel_launcher.py:6: SettingWithCopyWarning: \n",
      "A value is trying to be set on a copy of a slice from a DataFrame\n",
      "\n",
      "See the caveats in the documentation: https://pandas.pydata.org/pandas-docs/stable/user_guide/indexing.html#returning-a-view-versus-a-copy\n",
      "  \n"
     ]
    }
   ],
   "source": [
    "for curcol in metadata.columns:\n",
    "    mergeddata.obs[curcol] = None\n",
    "    \n",
    "    for cursample in metadata['Sample ID']:\n",
    "        curvalue = metadata[metadata['Sample ID'] == cursample][curcol].values[0]\n",
    "        mergeddata.obs[curcol][mergeddata.obs['sample'] == cursample] = curvalue\n"
   ]
  },
  {
   "cell_type": "code",
   "execution_count": 11,
   "metadata": {},
   "outputs": [],
   "source": [
    "mergeddata.obs['Age'] = pd.to_numeric(mergeddata.obs['Age'])"
   ]
  },
  {
   "cell_type": "code",
   "execution_count": 12,
   "metadata": {},
   "outputs": [],
   "source": [
    "mergeddata.raw = mergeddata\n",
    "mergeddata = mergeddata[:, mergeddata.var.highly_variable]"
   ]
  },
  {
   "cell_type": "code",
   "execution_count": 13,
   "metadata": {},
   "outputs": [
    {
     "name": "stderr",
     "output_type": "stream",
     "text": [
      "/Users/athib/Library/Python/3.7/lib/python/site-packages/scanpy/preprocessing/_simple.py:843: UserWarning: Received a view of an AnnData. Making a copy.\n",
      "  view_to_actual(adata)\n"
     ]
    },
    {
     "name": "stdout",
     "output_type": "stream",
     "text": [
      "... as `zero_center=True`, sparse input is densified and may lead to large memory consumption\n",
      "computing PCA\n",
      "    on highly variable genes\n",
      "    with n_comps=50\n",
      "    finished (0:00:55)\n"
     ]
    }
   ],
   "source": [
    "sc.pp.scale(mergeddata, max_value=10)\n",
    "sc.tl.pca(mergeddata, svd_solver='arpack',n_comps=50)"
   ]
  },
  {
   "cell_type": "code",
   "execution_count": 16,
   "metadata": {},
   "outputs": [],
   "source": [
    "import scanpy.external as sce"
   ]
  },
  {
   "cell_type": "code",
   "execution_count": 17,
   "metadata": {},
   "outputs": [
    {
     "name": "stderr",
     "output_type": "stream",
     "text": [
      "2022-12-12 11:42:15,486 - harmonypy - INFO - Iteration 1 of 10\n",
      "2022-12-12 11:45:14,735 - harmonypy - INFO - Iteration 2 of 10\n",
      "2022-12-12 11:48:13,864 - harmonypy - INFO - Iteration 3 of 10\n",
      "2022-12-12 11:50:15,740 - harmonypy - INFO - Converged after 3 iterations\n"
     ]
    }
   ],
   "source": [
    "sce.pp.harmony_integrate(mergeddata, 'Batch')\n"
   ]
  },
  {
   "cell_type": "code",
   "execution_count": 21,
   "metadata": {},
   "outputs": [],
   "source": [
    "mergeddata.obs['Batch'] = pd.to_numeric(mergeddata.obs['Batch'])"
   ]
  },
  {
   "cell_type": "code",
   "execution_count": 23,
   "metadata": {},
   "outputs": [],
   "source": [
    "mergeddata.obs['Steroid'] = pd.to_numeric(mergeddata.obs['Steroid'])"
   ]
  },
  {
   "cell_type": "code",
   "execution_count": 24,
   "metadata": {},
   "outputs": [],
   "source": [
    "mergeddata.write(\"/Users/athib/Desktop/CovidRSV/scRNA2/HarmonyCorrected.h5ad\")\n"
   ]
  },
  {
   "cell_type": "code",
   "execution_count": null,
   "metadata": {},
   "outputs": [],
   "source": []
  }
 ],
 "metadata": {
  "kernelspec": {
   "display_name": "Python 3",
   "language": "python",
   "name": "python3"
  },
  "language_info": {
   "codemirror_mode": {
    "name": "ipython",
    "version": 3
   },
   "file_extension": ".py",
   "mimetype": "text/x-python",
   "name": "python",
   "nbconvert_exporter": "python",
   "pygments_lexer": "ipython3",
   "version": "3.7.6"
  }
 },
 "nbformat": 4,
 "nbformat_minor": 4
}
