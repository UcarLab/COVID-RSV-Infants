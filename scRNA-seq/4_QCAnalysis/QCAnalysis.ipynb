{
 "cells": [
  {
   "cell_type": "code",
   "execution_count": 1,
   "metadata": {},
   "outputs": [],
   "source": [
    "import numpy as np\n",
    "import pandas as pd\n",
    "import matplotlib.pyplot as plt\n",
    "from matplotlib import colors as mplcolors\n",
    "from sklearn.preprocessing import StandardScaler\n",
    "from sklearn.decomposition import PCA\n",
    "import umap\n",
    "import seaborn as sb\n",
    "import scipy\n",
    "import matplotlib.cm as cm\n",
    "\n",
    "import hdbscan\n"
   ]
  },
  {
   "cell_type": "code",
   "execution_count": 2,
   "metadata": {},
   "outputs": [],
   "source": [
    "combinedtable = pd.read_csv(\"MergedCellMetaData.csv\", index_col=0)"
   ]
  },
  {
   "cell_type": "code",
   "execution_count": 3,
   "metadata": {},
   "outputs": [],
   "source": [
    "curX = combinedtable.pivot_table(index='Sample')[['nCount_RNA','nFeature_RNA', 'percent.mt', 'percent.rb', 'Doublet_score', 'Is_doublet']]\n",
    "\n"
   ]
  },
  {
   "cell_type": "code",
   "execution_count": 4,
   "metadata": {},
   "outputs": [],
   "source": [
    "batch = combinedtable.pivot_table(index='Sample')['Batch']"
   ]
  },
  {
   "cell_type": "code",
   "execution_count": 5,
   "metadata": {},
   "outputs": [],
   "source": [
    "curscaler = StandardScaler()"
   ]
  },
  {
   "cell_type": "code",
   "execution_count": 6,
   "metadata": {},
   "outputs": [],
   "source": [
    "scaled_X = curscaler.fit_transform(curX)"
   ]
  },
  {
   "cell_type": "code",
   "execution_count": 7,
   "metadata": {},
   "outputs": [],
   "source": [
    "pca = PCA(n_components=2)"
   ]
  },
  {
   "cell_type": "code",
   "execution_count": 8,
   "metadata": {},
   "outputs": [],
   "source": [
    "pca_X = pca.fit_transform(scaled_X)"
   ]
  },
  {
   "cell_type": "code",
   "execution_count": 9,
   "metadata": {},
   "outputs": [],
   "source": [
    "batchcolors = []\n",
    "for cur in combinedtable['Batch']:\n",
    "    batchcolors.append(cm.rainbow(int(cur)/10))"
   ]
  },
  {
   "cell_type": "code",
   "execution_count": 10,
   "metadata": {},
   "outputs": [],
   "source": [
    "colors= []\n",
    "for curbatch in batch:\n",
    "    colors.append(cm.rainbow(int(curbatch)/10))"
   ]
  },
  {
   "cell_type": "code",
   "execution_count": 11,
   "metadata": {},
   "outputs": [
    {
     "data": {
      "text/plain": [
       "Text(0, 0.5, 'PC 2')"
      ]
     },
     "execution_count": 11,
     "metadata": {},
     "output_type": "execute_result"
    },
    {
     "data": {
      "image/png": "[encoded data removed]",
      "text/plain": [
       "<Figure size 432x288 with 1 Axes>"
      ]
     },
     "metadata": {
      "needs_background": "light"
     },
     "output_type": "display_data"
    }
   ],
   "source": [
    "plt.scatter(pca_X[:,0], pca_X[:,1], c=colors)\n",
    "plt.xlabel('PC 1')\n",
    "plt.ylabel('PC 2')"
   ]
  },
  {
   "cell_type": "code",
   "execution_count": 12,
   "metadata": {},
   "outputs": [
    {
     "data": {
      "text/html": [
       "<div>\n",
       "<style scoped>\n",
       "    .dataframe tbody tr th:only-of-type {\n",
       "        vertical-align: middle;\n",
       "    }\n",
       "\n",
       "    .dataframe tbody tr th {\n",
       "        vertical-align: top;\n",
       "    }\n",
       "\n",
       "    .dataframe thead th {\n",
       "        text-align: right;\n",
       "    }\n",
       "</style>\n",
       "<table border=\"1\" class=\"dataframe\">\n",
       "  <thead>\n",
       "    <tr style=\"text-align: right;\">\n",
       "      <th></th>\n",
       "      <th>Sample</th>\n",
       "      <th>Barcode</th>\n",
       "      <th>nCount_RNA</th>\n",
       "      <th>nFeature_RNA</th>\n",
       "      <th>percent.mt</th>\n",
       "      <th>percent.rb</th>\n",
       "      <th>Doublet_score</th>\n",
       "      <th>Is_doublet</th>\n",
       "      <th>Batch</th>\n",
       "    </tr>\n",
       "  </thead>\n",
       "  <tbody>\n",
       "    <tr>\n",
       "      <th>0</th>\n",
       "      <td>pHC1</td>\n",
       "      <td>AAACCCAAGAACTGAT-1</td>\n",
       "      <td>8190.138154</td>\n",
       "      <td>1981</td>\n",
       "      <td>6.270726</td>\n",
       "      <td>44.602450</td>\n",
       "      <td>0.133277</td>\n",
       "      <td>False</td>\n",
       "      <td>1</td>\n",
       "    </tr>\n",
       "    <tr>\n",
       "      <th>1</th>\n",
       "      <td>pHC1</td>\n",
       "      <td>AAACCCAAGCGGGTTA-1</td>\n",
       "      <td>647.635118</td>\n",
       "      <td>283</td>\n",
       "      <td>56.177759</td>\n",
       "      <td>8.505857</td>\n",
       "      <td>0.045970</td>\n",
       "      <td>False</td>\n",
       "      <td>1</td>\n",
       "    </tr>\n",
       "    <tr>\n",
       "      <th>2</th>\n",
       "      <td>pHC1</td>\n",
       "      <td>AAACCCAAGTGTAGAT-1</td>\n",
       "      <td>4685.023368</td>\n",
       "      <td>1580</td>\n",
       "      <td>5.360737</td>\n",
       "      <td>34.817887</td>\n",
       "      <td>0.052135</td>\n",
       "      <td>False</td>\n",
       "      <td>1</td>\n",
       "    </tr>\n",
       "    <tr>\n",
       "      <th>3</th>\n",
       "      <td>pHC1</td>\n",
       "      <td>AAACCCACAACAAAGT-1</td>\n",
       "      <td>7674.084207</td>\n",
       "      <td>1911</td>\n",
       "      <td>4.764881</td>\n",
       "      <td>45.586655</td>\n",
       "      <td>0.172450</td>\n",
       "      <td>False</td>\n",
       "      <td>1</td>\n",
       "    </tr>\n",
       "    <tr>\n",
       "      <th>4</th>\n",
       "      <td>pHC1</td>\n",
       "      <td>AAACCCACACGACAGA-1</td>\n",
       "      <td>12244.814303</td>\n",
       "      <td>2864</td>\n",
       "      <td>4.847984</td>\n",
       "      <td>42.132947</td>\n",
       "      <td>0.111273</td>\n",
       "      <td>False</td>\n",
       "      <td>1</td>\n",
       "    </tr>\n",
       "    <tr>\n",
       "      <th>...</th>\n",
       "      <td>...</td>\n",
       "      <td>...</td>\n",
       "      <td>...</td>\n",
       "      <td>...</td>\n",
       "      <td>...</td>\n",
       "      <td>...</td>\n",
       "      <td>...</td>\n",
       "      <td>...</td>\n",
       "      <td>...</td>\n",
       "    </tr>\n",
       "    <tr>\n",
       "      <th>491072</th>\n",
       "      <td>pHC17</td>\n",
       "      <td>TTTGTTGCAGACGATG-1</td>\n",
       "      <td>4937.070936</td>\n",
       "      <td>1429</td>\n",
       "      <td>3.647245</td>\n",
       "      <td>44.797781</td>\n",
       "      <td>0.097239</td>\n",
       "      <td>False</td>\n",
       "      <td>10</td>\n",
       "    </tr>\n",
       "    <tr>\n",
       "      <th>491073</th>\n",
       "      <td>pHC17</td>\n",
       "      <td>TTTGTTGGTTGTCTAG-1</td>\n",
       "      <td>5651.379463</td>\n",
       "      <td>1414</td>\n",
       "      <td>5.594797</td>\n",
       "      <td>47.947657</td>\n",
       "      <td>0.084416</td>\n",
       "      <td>False</td>\n",
       "      <td>10</td>\n",
       "    </tr>\n",
       "    <tr>\n",
       "      <th>491074</th>\n",
       "      <td>pHC17</td>\n",
       "      <td>TTTGTTGTCCAATCCC-1</td>\n",
       "      <td>4847.938567</td>\n",
       "      <td>1366</td>\n",
       "      <td>6.769203</td>\n",
       "      <td>42.045732</td>\n",
       "      <td>0.033604</td>\n",
       "      <td>False</td>\n",
       "      <td>10</td>\n",
       "    </tr>\n",
       "    <tr>\n",
       "      <th>491075</th>\n",
       "      <td>pHC17</td>\n",
       "      <td>TTTGTTGTCCAGGACC-1</td>\n",
       "      <td>4392.073705</td>\n",
       "      <td>1381</td>\n",
       "      <td>4.001835</td>\n",
       "      <td>42.678595</td>\n",
       "      <td>0.097239</td>\n",
       "      <td>False</td>\n",
       "      <td>10</td>\n",
       "    </tr>\n",
       "    <tr>\n",
       "      <th>491076</th>\n",
       "      <td>pHC17</td>\n",
       "      <td>TTTGTTGTCGGACTTA-1</td>\n",
       "      <td>7511.698706</td>\n",
       "      <td>1779</td>\n",
       "      <td>5.417047</td>\n",
       "      <td>50.730873</td>\n",
       "      <td>0.146160</td>\n",
       "      <td>False</td>\n",
       "      <td>10</td>\n",
       "    </tr>\n",
       "  </tbody>\n",
       "</table>\n",
       "<p>491077 rows × 9 columns</p>\n",
       "</div>"
      ],
      "text/plain": [
       "       Sample             Barcode    nCount_RNA  nFeature_RNA  percent.mt  \\\n",
       "0        pHC1  AAACCCAAGAACTGAT-1   8190.138154          1981    6.270726   \n",
       "1        pHC1  AAACCCAAGCGGGTTA-1    647.635118           283   56.177759   \n",
       "2        pHC1  AAACCCAAGTGTAGAT-1   4685.023368          1580    5.360737   \n",
       "3        pHC1  AAACCCACAACAAAGT-1   7674.084207          1911    4.764881   \n",
       "4        pHC1  AAACCCACACGACAGA-1  12244.814303          2864    4.847984   \n",
       "...       ...                 ...           ...           ...         ...   \n",
       "491072  pHC17  TTTGTTGCAGACGATG-1   4937.070936          1429    3.647245   \n",
       "491073  pHC17  TTTGTTGGTTGTCTAG-1   5651.379463          1414    5.594797   \n",
       "491074  pHC17  TTTGTTGTCCAATCCC-1   4847.938567          1366    6.769203   \n",
       "491075  pHC17  TTTGTTGTCCAGGACC-1   4392.073705          1381    4.001835   \n",
       "491076  pHC17  TTTGTTGTCGGACTTA-1   7511.698706          1779    5.417047   \n",
       "\n",
       "        percent.rb  Doublet_score  Is_doublet  Batch  \n",
       "0        44.602450       0.133277       False      1  \n",
       "1         8.505857       0.045970       False      1  \n",
       "2        34.817887       0.052135       False      1  \n",
       "3        45.586655       0.172450       False      1  \n",
       "4        42.132947       0.111273       False      1  \n",
       "...            ...            ...         ...    ...  \n",
       "491072   44.797781       0.097239       False     10  \n",
       "491073   47.947657       0.084416       False     10  \n",
       "491074   42.045732       0.033604       False     10  \n",
       "491075   42.678595       0.097239       False     10  \n",
       "491076   50.730873       0.146160       False     10  \n",
       "\n",
       "[491077 rows x 9 columns]"
      ]
     },
     "execution_count": 12,
     "metadata": {},
     "output_type": "execute_result"
    }
   ],
   "source": [
    "combinedtable"
   ]
  },
  {
   "cell_type": "code",
   "execution_count": 13,
   "metadata": {},
   "outputs": [],
   "source": [
    "#"
   ]
  },
  {
   "cell_type": "code",
   "execution_count": 14,
   "metadata": {},
   "outputs": [],
   "source": [
    "combinetablearray = np.array(combinedtable)"
   ]
  },
  {
   "cell_type": "code",
   "execution_count": 15,
   "metadata": {},
   "outputs": [],
   "source": [
    "curscaler = StandardScaler()\n",
    "scaleddata = curscaler.fit_transform(combinetablearray[:,2:-1])"
   ]
  },
  {
   "cell_type": "code",
   "execution_count": 16,
   "metadata": {},
   "outputs": [
    {
     "data": {
      "text/plain": [
       "array([[ 0.39217313,  0.12013807, -0.23721303,  1.12102288,  0.68426306,\n",
       "        -0.14739547],\n",
       "       [-1.36241699, -1.76649269,  4.90943949, -1.32837338, -0.37867897,\n",
       "        -0.14739547],\n",
       "       [-0.42321133, -0.32540901, -0.33105541,  0.45707459, -0.30362686,\n",
       "        -0.14739547],\n",
       "       ...,\n",
       "       [-0.38531285, -0.56318226, -0.18580772,  0.9475324 , -0.52922828,\n",
       "        -0.14739547],\n",
       "       [-0.49135934, -0.54651591, -0.47119194,  0.9904764 ,  0.2455037 ,\n",
       "        -0.14739547],\n",
       "       [ 0.23434977, -0.10430211, -0.32524851,  1.53687755,  0.84110689,\n",
       "        -0.14739547]])"
      ]
     },
     "execution_count": 16,
     "metadata": {},
     "output_type": "execute_result"
    }
   ],
   "source": [
    "scaleddata"
   ]
  },
  {
   "cell_type": "code",
   "execution_count": 17,
   "metadata": {},
   "outputs": [],
   "source": [
    "reducer = umap.UMAP(n_neighbors=30,\n",
    "                    min_dist=0.0,\n",
    "    n_components=2,\n",
    "    random_state=929)"
   ]
  },
  {
   "cell_type": "code",
   "execution_count": 18,
   "metadata": {},
   "outputs": [],
   "source": [
    "embedding = reducer.fit_transform(scaleddata)"
   ]
  },
  {
   "cell_type": "code",
   "execution_count": 19,
   "metadata": {},
   "outputs": [],
   "source": [
    "hdbscan_predictor = hdbscan.HDBSCAN(min_samples=10, min_cluster_size=500)"
   ]
  },
  {
   "cell_type": "code",
   "execution_count": 20,
   "metadata": {},
   "outputs": [],
   "source": [
    "hdblabels = hdbscan_predictor.fit_predict(embedding)\n"
   ]
  },
  {
   "cell_type": "code",
   "execution_count": 21,
   "metadata": {},
   "outputs": [
    {
     "data": {
      "text/plain": [
       "194"
      ]
     },
     "execution_count": 21,
     "metadata": {},
     "output_type": "execute_result"
    }
   ],
   "source": [
    "sum(hdblabels==-1)"
   ]
  },
  {
   "cell_type": "code",
   "execution_count": 22,
   "metadata": {},
   "outputs": [
    {
     "data": {
      "text/plain": [
       "array([[ 2.185854 ,  3.0260918],\n",
       "       [15.698148 , -6.736265 ],\n",
       "       [ 9.250466 ,  0.4425061],\n",
       "       ...,\n",
       "       [ 8.013843 , -2.6839879],\n",
       "       [ 6.7206993, -1.6060417],\n",
       "       [ 2.8109913,  2.1532936]], dtype=float32)"
      ]
     },
     "execution_count": 22,
     "metadata": {},
     "output_type": "execute_result"
    }
   ],
   "source": [
    "embedding"
   ]
  },
  {
   "cell_type": "code",
   "execution_count": 23,
   "metadata": {},
   "outputs": [
    {
     "data": {
      "text/plain": [
       "([], [])"
      ]
     },
     "execution_count": 23,
     "metadata": {},
     "output_type": "execute_result"
    },
    {
     "data": {
      "image/png": "[encoded data removed]",
      "text/plain": [
       "<Figure size 1080x720 with 1 Axes>"
      ]
     },
     "metadata": {},
     "output_type": "display_data"
    }
   ],
   "source": [
    "plt.figure(figsize=(15,10))\n",
    "plt.scatter(\n",
    "    embedding[((hdblabels != 3) & (hdblabels != -1)), 0],\n",
    "    embedding[((hdblabels != 3) & (hdblabels != -1)), 1], c=hdblabels[((hdblabels != 3) & (hdblabels != -1))], cmap=mplcolors.ListedColormap(['#000000', '#ff3f0f', '#0fd3ff', '#24d433', '#cccccc']))\n",
    "plt.xticks([],[])\n",
    "plt.yticks([],[])"
   ]
  },
  {
   "cell_type": "code",
   "execution_count": 24,
   "metadata": {},
   "outputs": [
    {
     "data": {
      "text/plain": [
       "([], [])"
      ]
     },
     "execution_count": 24,
     "metadata": {},
     "output_type": "execute_result"
    },
    {
     "data": {
      "image/png": "[encoded data removed]",
      "text/plain": [
       "<Figure size 1080x720 with 1 Axes>"
      ]
     },
     "metadata": {},
     "output_type": "display_data"
    }
   ],
   "source": [
    "plt.figure(figsize=(15,10))\n",
    "plt.scatter(\n",
    "    embedding[:, 0],\n",
    "    embedding[:, 1], c=hdblabels, cmap=mplcolors.ListedColormap(['#000000', '#ff3f0f', '#0fd3ff', '#24d433', '#cccccc']))\n",
    "plt.xticks([],[])\n",
    "plt.yticks([],[])"
   ]
  },
  {
   "cell_type": "code",
   "execution_count": 25,
   "metadata": {},
   "outputs": [
    {
     "data": {
      "text/plain": [
       "([], [])"
      ]
     },
     "execution_count": 25,
     "metadata": {},
     "output_type": "execute_result"
    },
    {
     "data": {
      "image/png": "[encoded data removed]",
      "text/plain": [
       "<Figure size 432x288 with 2 Axes>"
      ]
     },
     "metadata": {
      "needs_background": "light"
     },
     "output_type": "display_data"
    }
   ],
   "source": [
    "plt.figure(figsize=(6,4))\n",
    "plt.scatter(\n",
    "    embedding[:, 0],\n",
    "    embedding[:, 1], c=combinedtable[\"Batch\"], cmap=\"gist_rainbow\", alpha=0.05)\n",
    "#plt.gca().set_aspect('equal', 'datalim')\n",
    "plt.colorbar()\n",
    "plt.title('Percent Mitochondrial Genes', fontsize=16)\n",
    "plt.xticks([],[])\n",
    "plt.yticks([],[])"
   ]
  },
  {
   "cell_type": "code",
   "execution_count": 26,
   "metadata": {},
   "outputs": [
    {
     "data": {
      "text/plain": [
       "([], [])"
      ]
     },
     "execution_count": 26,
     "metadata": {},
     "output_type": "execute_result"
    },
    {
     "data": {
      "image/png": "[encoded data removed]",
      "text/plain": [
       "<Figure size 432x288 with 2 Axes>"
      ]
     },
     "metadata": {
      "needs_background": "light"
     },
     "output_type": "display_data"
    }
   ],
   "source": [
    "plt.figure(figsize=(6,4))\n",
    "plt.scatter(\n",
    "    embedding[:, 0],\n",
    "    embedding[:, 1], c=combinedtable[\"percent.mt\"], cmap=\"Reds\")\n",
    "#plt.gca().set_aspect('equal', 'datalim')\n",
    "plt.colorbar()\n",
    "plt.title('Percent Mitochondrial Genes', fontsize=16)\n",
    "plt.xticks([],[])\n",
    "plt.yticks([],[])"
   ]
  },
  {
   "cell_type": "code",
   "execution_count": 27,
   "metadata": {},
   "outputs": [
    {
     "data": {
      "text/plain": [
       "([], [])"
      ]
     },
     "execution_count": 27,
     "metadata": {},
     "output_type": "execute_result"
    },
    {
     "data": {
      "image/png": "[encoded data removed]",
      "text/plain": [
       "<Figure size 432x288 with 2 Axes>"
      ]
     },
     "metadata": {
      "needs_background": "light"
     },
     "output_type": "display_data"
    }
   ],
   "source": [
    "plt.figure(figsize=(6,4))\n",
    "plt.scatter(\n",
    "    embedding[:, 0],\n",
    "    embedding[:, 1], c=combinedtable[\"percent.rb\"], cmap=\"Reds\")\n",
    "#plt.gca().set_aspect('equal', 'datalim')\n",
    "#\n",
    "plt.colorbar()\n",
    "plt.title('Percent Ribosomal Protein Genes', fontsize=16)\n",
    "plt.xticks([],[])\n",
    "plt.yticks([],[])"
   ]
  },
  {
   "cell_type": "code",
   "execution_count": 28,
   "metadata": {},
   "outputs": [
    {
     "data": {
      "text/plain": [
       "([], [])"
      ]
     },
     "execution_count": 28,
     "metadata": {},
     "output_type": "execute_result"
    },
    {
     "data": {
      "image/png": "[encoded data removed]",
      "text/plain": [
       "<Figure size 432x288 with 2 Axes>"
      ]
     },
     "metadata": {
      "needs_background": "light"
     },
     "output_type": "display_data"
    }
   ],
   "source": [
    "plt.figure(figsize=(6,4))\n",
    "plt.scatter(\n",
    "    embedding[:, 0],\n",
    "    embedding[:, 1], c=combinedtable[\"nFeature_RNA\"], cmap=\"Reds\")\n",
    "#plt.gca().set_aspect('equal', 'datalim')\n",
    "#\n",
    "plt.colorbar()\n",
    "\n",
    "plt.title('Number of Genes', fontsize=16)\n",
    "plt.xticks([],[])\n",
    "plt.yticks([],[])"
   ]
  },
  {
   "cell_type": "code",
   "execution_count": 29,
   "metadata": {},
   "outputs": [
    {
     "data": {
      "text/plain": [
       "([], [])"
      ]
     },
     "execution_count": 29,
     "metadata": {},
     "output_type": "execute_result"
    },
    {
     "data": {
      "image/png": "[encoded data removed]",
      "text/plain": [
       "<Figure size 432x288 with 2 Axes>"
      ]
     },
     "metadata": {
      "needs_background": "light"
     },
     "output_type": "display_data"
    }
   ],
   "source": [
    "plt.figure(figsize=(6,4))\n",
    "plt.scatter(\n",
    "    embedding[:, 0],\n",
    "    embedding[:, 1], c=combinedtable[\"nFeature_RNA\"] > 500, cmap=\"Reds\")\n",
    "#plt.gca().set_aspect('equal', 'datalim')\n",
    "#\n",
    "plt.colorbar()\n",
    "\n",
    "plt.title('Number of Genes', fontsize=16)\n",
    "plt.xticks([],[])\n",
    "plt.yticks([],[])"
   ]
  },
  {
   "cell_type": "code",
   "execution_count": 30,
   "metadata": {},
   "outputs": [
    {
     "data": {
      "text/plain": [
       "([], [])"
      ]
     },
     "execution_count": 30,
     "metadata": {},
     "output_type": "execute_result"
    },
    {
     "data": {
      "image/png": "[encoded data removed]",
      "text/plain": [
       "<Figure size 432x288 with 2 Axes>"
      ]
     },
     "metadata": {
      "needs_background": "light"
     },
     "output_type": "display_data"
    }
   ],
   "source": [
    "plt.figure(figsize=(6,4))\n",
    "plt.scatter(\n",
    "    embedding[:, 0],\n",
    "    embedding[:, 1], c=combinedtable[\"nCount_RNA\"], cmap=\"Reds\")\n",
    "#plt.gca().set_aspect('equal', 'datalim')\n",
    "#\n",
    "plt.colorbar()\n",
    "\n",
    "plt.title('Number of Molecules', fontsize=16)\n",
    "plt.xticks([],[])\n",
    "plt.yticks([],[])"
   ]
  },
  {
   "cell_type": "code",
   "execution_count": 31,
   "metadata": {},
   "outputs": [
    {
     "data": {
      "text/plain": [
       "([], [])"
      ]
     },
     "execution_count": 31,
     "metadata": {},
     "output_type": "execute_result"
    },
    {
     "data": {
      "image/png": "[encoded data removed]",
      "text/plain": [
       "<Figure size 432x288 with 2 Axes>"
      ]
     },
     "metadata": {
      "needs_background": "light"
     },
     "output_type": "display_data"
    }
   ],
   "source": [
    "plt.figure(figsize=(6,4))\n",
    "plt.scatter(\n",
    "    embedding[:, 0],\n",
    "    embedding[:, 1], c=combinedtable[\"Is_doublet\"], cmap=\"Reds\")\n",
    "#plt.gca().set_aspect('equal', 'datalim')\n",
    "#\n",
    "plt.colorbar()\n",
    "\n",
    "plt.title('Multiplet Classifcation', fontsize=16)\n",
    "plt.xticks([],[])\n",
    "plt.yticks([],[])"
   ]
  },
  {
   "cell_type": "code",
   "execution_count": 32,
   "metadata": {},
   "outputs": [
    {
     "data": {
      "text/plain": [
       "([], [])"
      ]
     },
     "execution_count": 32,
     "metadata": {},
     "output_type": "execute_result"
    },
    {
     "data": {
      "image/png": "[encoded data removed]",
      "text/plain": [
       "<Figure size 432x288 with 2 Axes>"
      ]
     },
     "metadata": {
      "needs_background": "light"
     },
     "output_type": "display_data"
    }
   ],
   "source": [
    "plt.figure(figsize=(6,4))\n",
    "plt.scatter(\n",
    "    embedding[:, 0],\n",
    "    embedding[:, 1], c=combinedtable[\"Doublet_score\"], cmap=\"Reds\")\n",
    "#plt.gca().set_aspect('equal', 'datalim')\n",
    "#\n",
    "plt.colorbar()\n",
    "\n",
    "plt.title('Multiplet Score', fontsize=16)\n",
    "plt.xticks([],[])\n",
    "plt.yticks([],[])"
   ]
  },
  {
   "cell_type": "code",
   "execution_count": 40,
   "metadata": {},
   "outputs": [
    {
     "data": {
      "text/plain": [
       "8.69449516031137"
      ]
     },
     "execution_count": 40,
     "metadata": {},
     "output_type": "execute_result"
    }
   ],
   "source": [
    "np.mean(combinedtable[\"percent.mt\"][hdblabels==-1])"
   ]
  },
  {
   "cell_type": "code",
   "execution_count": 41,
   "metadata": {},
   "outputs": [
    {
     "data": {
      "text/plain": [
       "443"
      ]
     },
     "execution_count": 41,
     "metadata": {},
     "output_type": "execute_result"
    }
   ],
   "source": [
    "np.max(combinedtable[\"nFeature_RNA\"][hdblabels==2])"
   ]
  },
  {
   "cell_type": "code",
   "execution_count": 82,
   "metadata": {},
   "outputs": [
    {
     "data": {
      "text/plain": [
       "([], [])"
      ]
     },
     "execution_count": 82,
     "metadata": {},
     "output_type": "execute_result"
    },
    {
     "data": {
      "image/png": "[encoded data removed]",
      "text/plain": [
       "<Figure size 432x288 with 1 Axes>"
      ]
     },
     "metadata": {},
     "output_type": "display_data"
    },
    {
     "data": {
      "image/png": "[encoded data removed]",
      "text/plain": [
       "<Figure size 432x288 with 1 Axes>"
      ]
     },
     "metadata": {},
     "output_type": "display_data"
    }
   ],
   "source": [
    "sel = np.array(combinedtable[\"percent.mt\"] < 20)\n",
    "##sel = combinedtable[\"percent.mt\"] >= 0\n",
    "\n",
    "sel = sel & (combinedtable[\"percent.mt\"] > 1) #Justified by plots \n",
    "sel = sel & (combinedtable[\"nCount_RNA\"] > 2000)#Justified by plots\n",
    "sel = sel & (combinedtable[\"nCount_RNA\"] < 25000)#Justified by plots\n",
    "\n",
    "##sel = sel & (combinedtable[\"percent.rb\"] > 6)#Justified by plots\n",
    "sel = sel & (combinedtable[\"nFeature_RNA\"] >= 500)\n",
    "sel = sel & (combinedtable[\"Is_doublet\"] == False)#Justified because scrublet\n",
    "#sel = sel & (hdblabels != 2)#\n",
    "#sel = sel & ((hdblabels == 3) | (hdblabels == -1))#\n",
    "\n",
    "plt.figure(figsize=(6,4))\n",
    "plt.title(\"Remaining Cells\")#+str(np.sum(sel)))\n",
    "plt.scatter(\n",
    "    embedding[sel, 0],\n",
    "    embedding[sel, 1], c=\"#24d433\", cmap=mplcolors.ListedColormap(['#24d433']))\n",
    "plt.xticks([],[])\n",
    "plt.yticks([],[])\n",
    "\n",
    "plt.figure(figsize=(6,4))\n",
    "plt.title(\"Removed Cells\")#+str(np.sum(~sel)))\n",
    "plt.scatter(\n",
    "    embedding[~sel, 0],\n",
    "    embedding[~sel, 1], c=\"#ff3f0f\", cmap=mplcolors.ListedColormap(['#ff3f0f']))\n",
    "plt.xticks([],[])\n",
    "plt.yticks([],[])\n",
    "#plt.gca().set_aspect('equal', 'datalim')\n",
    "#\n",
    "#plt.colorbar()\n",
    "#plt.legend()\n",
    "#Note numbers may be off because one sample is excluded from further analysis but was included in this process"
   ]
  },
  {
   "cell_type": "code",
   "execution_count": 83,
   "metadata": {},
   "outputs": [
    {
     "data": {
      "text/plain": [
       "389281"
      ]
     },
     "execution_count": 83,
     "metadata": {},
     "output_type": "execute_result"
    }
   ],
   "source": [
    "sum(sel) # Number of cells remaining"
   ]
  },
  {
   "cell_type": "code",
   "execution_count": 84,
   "metadata": {},
   "outputs": [
    {
     "data": {
      "text/plain": [
       "101796"
      ]
     },
     "execution_count": 84,
     "metadata": {},
     "output_type": "execute_result"
    }
   ],
   "source": [
    "491077-389281 # Number of cells removed"
   ]
  },
  {
   "cell_type": "code",
   "execution_count": 85,
   "metadata": {},
   "outputs": [
    {
     "data": {
      "text/plain": [
       "0.20729132091301364"
      ]
     },
     "execution_count": 85,
     "metadata": {},
     "output_type": "execute_result"
    }
   ],
   "source": [
    "101796/491077 # % of cells removed"
   ]
  },
  {
   "cell_type": "code",
   "execution_count": 86,
   "metadata": {},
   "outputs": [
    {
     "data": {
      "text/plain": [
       "389228"
      ]
     },
     "execution_count": 86,
     "metadata": {},
     "output_type": "execute_result"
    }
   ],
   "source": [
    "sum(sel & ((hdblabels == 3) | (hdblabels == -1)))"
   ]
  },
  {
   "cell_type": "code",
   "execution_count": 87,
   "metadata": {},
   "outputs": [
    {
     "data": {
      "text/plain": [
       "22028"
      ]
     },
     "execution_count": 87,
     "metadata": {},
     "output_type": "execute_result"
    }
   ],
   "source": [
    "sum((hdblabels != 3) & (hdblabels != -1))"
   ]
  },
  {
   "cell_type": "code",
   "execution_count": 90,
   "metadata": {},
   "outputs": [
    {
     "data": {
      "text/plain": [
       "53"
      ]
     },
     "execution_count": 90,
     "metadata": {},
     "output_type": "execute_result"
    }
   ],
   "source": [
    "389281-389228 # Number of cells removed using clustering approach"
   ]
  },
  {
   "cell_type": "code",
   "execution_count": 102,
   "metadata": {},
   "outputs": [
    {
     "data": {
      "text/plain": [
       "0.9975939713092428"
      ]
     },
     "execution_count": 102,
     "metadata": {},
     "output_type": "execute_result"
    }
   ],
   "source": [
    "(22028-53)/22028 # % overlap with previous criteria"
   ]
  },
  {
   "cell_type": "code",
   "execution_count": 103,
   "metadata": {},
   "outputs": [
    {
     "data": {
      "text/plain": [
       "0.21587292231521868"
      ]
     },
     "execution_count": 103,
     "metadata": {},
     "output_type": "execute_result"
    }
   ],
   "source": [
    "(22028-53)/101796"
   ]
  },
  {
   "cell_type": "code",
   "execution_count": 91,
   "metadata": {},
   "outputs": [],
   "source": [
    "sel = sel & ((hdblabels == 3) | (hdblabels == -1))"
   ]
  },
  {
   "cell_type": "code",
   "execution_count": 92,
   "metadata": {},
   "outputs": [],
   "source": [
    "combinedtable[\"Passes_QC\"] = sel"
   ]
  },
  {
   "cell_type": "code",
   "execution_count": 93,
   "metadata": {},
   "outputs": [
    {
     "data": {
      "text/html": [
       "<div>\n",
       "<style scoped>\n",
       "    .dataframe tbody tr th:only-of-type {\n",
       "        vertical-align: middle;\n",
       "    }\n",
       "\n",
       "    .dataframe tbody tr th {\n",
       "        vertical-align: top;\n",
       "    }\n",
       "\n",
       "    .dataframe thead th {\n",
       "        text-align: right;\n",
       "    }\n",
       "</style>\n",
       "<table border=\"1\" class=\"dataframe\">\n",
       "  <thead>\n",
       "    <tr style=\"text-align: right;\">\n",
       "      <th></th>\n",
       "      <th>Sample</th>\n",
       "      <th>Barcode</th>\n",
       "      <th>nCount_RNA</th>\n",
       "      <th>nFeature_RNA</th>\n",
       "      <th>percent.mt</th>\n",
       "      <th>percent.rb</th>\n",
       "      <th>Doublet_score</th>\n",
       "      <th>Is_doublet</th>\n",
       "      <th>Batch</th>\n",
       "      <th>Passes_QC</th>\n",
       "    </tr>\n",
       "  </thead>\n",
       "  <tbody>\n",
       "    <tr>\n",
       "      <th>0</th>\n",
       "      <td>pHC1</td>\n",
       "      <td>AAACCCAAGAACTGAT-1</td>\n",
       "      <td>8190.138154</td>\n",
       "      <td>1981</td>\n",
       "      <td>6.270726</td>\n",
       "      <td>44.602450</td>\n",
       "      <td>0.133277</td>\n",
       "      <td>False</td>\n",
       "      <td>1</td>\n",
       "      <td>True</td>\n",
       "    </tr>\n",
       "    <tr>\n",
       "      <th>1</th>\n",
       "      <td>pHC1</td>\n",
       "      <td>AAACCCAAGCGGGTTA-1</td>\n",
       "      <td>647.635118</td>\n",
       "      <td>283</td>\n",
       "      <td>56.177759</td>\n",
       "      <td>8.505857</td>\n",
       "      <td>0.045970</td>\n",
       "      <td>False</td>\n",
       "      <td>1</td>\n",
       "      <td>False</td>\n",
       "    </tr>\n",
       "    <tr>\n",
       "      <th>2</th>\n",
       "      <td>pHC1</td>\n",
       "      <td>AAACCCAAGTGTAGAT-1</td>\n",
       "      <td>4685.023368</td>\n",
       "      <td>1580</td>\n",
       "      <td>5.360737</td>\n",
       "      <td>34.817887</td>\n",
       "      <td>0.052135</td>\n",
       "      <td>False</td>\n",
       "      <td>1</td>\n",
       "      <td>True</td>\n",
       "    </tr>\n",
       "    <tr>\n",
       "      <th>3</th>\n",
       "      <td>pHC1</td>\n",
       "      <td>AAACCCACAACAAAGT-1</td>\n",
       "      <td>7674.084207</td>\n",
       "      <td>1911</td>\n",
       "      <td>4.764881</td>\n",
       "      <td>45.586655</td>\n",
       "      <td>0.172450</td>\n",
       "      <td>False</td>\n",
       "      <td>1</td>\n",
       "      <td>True</td>\n",
       "    </tr>\n",
       "    <tr>\n",
       "      <th>4</th>\n",
       "      <td>pHC1</td>\n",
       "      <td>AAACCCACACGACAGA-1</td>\n",
       "      <td>12244.814303</td>\n",
       "      <td>2864</td>\n",
       "      <td>4.847984</td>\n",
       "      <td>42.132947</td>\n",
       "      <td>0.111273</td>\n",
       "      <td>False</td>\n",
       "      <td>1</td>\n",
       "      <td>True</td>\n",
       "    </tr>\n",
       "    <tr>\n",
       "      <th>...</th>\n",
       "      <td>...</td>\n",
       "      <td>...</td>\n",
       "      <td>...</td>\n",
       "      <td>...</td>\n",
       "      <td>...</td>\n",
       "      <td>...</td>\n",
       "      <td>...</td>\n",
       "      <td>...</td>\n",
       "      <td>...</td>\n",
       "      <td>...</td>\n",
       "    </tr>\n",
       "    <tr>\n",
       "      <th>491072</th>\n",
       "      <td>pHC17</td>\n",
       "      <td>TTTGTTGCAGACGATG-1</td>\n",
       "      <td>4937.070936</td>\n",
       "      <td>1429</td>\n",
       "      <td>3.647245</td>\n",
       "      <td>44.797781</td>\n",
       "      <td>0.097239</td>\n",
       "      <td>False</td>\n",
       "      <td>10</td>\n",
       "      <td>True</td>\n",
       "    </tr>\n",
       "    <tr>\n",
       "      <th>491073</th>\n",
       "      <td>pHC17</td>\n",
       "      <td>TTTGTTGGTTGTCTAG-1</td>\n",
       "      <td>5651.379463</td>\n",
       "      <td>1414</td>\n",
       "      <td>5.594797</td>\n",
       "      <td>47.947657</td>\n",
       "      <td>0.084416</td>\n",
       "      <td>False</td>\n",
       "      <td>10</td>\n",
       "      <td>True</td>\n",
       "    </tr>\n",
       "    <tr>\n",
       "      <th>491074</th>\n",
       "      <td>pHC17</td>\n",
       "      <td>TTTGTTGTCCAATCCC-1</td>\n",
       "      <td>4847.938567</td>\n",
       "      <td>1366</td>\n",
       "      <td>6.769203</td>\n",
       "      <td>42.045732</td>\n",
       "      <td>0.033604</td>\n",
       "      <td>False</td>\n",
       "      <td>10</td>\n",
       "      <td>True</td>\n",
       "    </tr>\n",
       "    <tr>\n",
       "      <th>491075</th>\n",
       "      <td>pHC17</td>\n",
       "      <td>TTTGTTGTCCAGGACC-1</td>\n",
       "      <td>4392.073705</td>\n",
       "      <td>1381</td>\n",
       "      <td>4.001835</td>\n",
       "      <td>42.678595</td>\n",
       "      <td>0.097239</td>\n",
       "      <td>False</td>\n",
       "      <td>10</td>\n",
       "      <td>True</td>\n",
       "    </tr>\n",
       "    <tr>\n",
       "      <th>491076</th>\n",
       "      <td>pHC17</td>\n",
       "      <td>TTTGTTGTCGGACTTA-1</td>\n",
       "      <td>7511.698706</td>\n",
       "      <td>1779</td>\n",
       "      <td>5.417047</td>\n",
       "      <td>50.730873</td>\n",
       "      <td>0.146160</td>\n",
       "      <td>False</td>\n",
       "      <td>10</td>\n",
       "      <td>True</td>\n",
       "    </tr>\n",
       "  </tbody>\n",
       "</table>\n",
       "<p>491077 rows × 10 columns</p>\n",
       "</div>"
      ],
      "text/plain": [
       "       Sample             Barcode    nCount_RNA  nFeature_RNA  percent.mt  \\\n",
       "0        pHC1  AAACCCAAGAACTGAT-1   8190.138154          1981    6.270726   \n",
       "1        pHC1  AAACCCAAGCGGGTTA-1    647.635118           283   56.177759   \n",
       "2        pHC1  AAACCCAAGTGTAGAT-1   4685.023368          1580    5.360737   \n",
       "3        pHC1  AAACCCACAACAAAGT-1   7674.084207          1911    4.764881   \n",
       "4        pHC1  AAACCCACACGACAGA-1  12244.814303          2864    4.847984   \n",
       "...       ...                 ...           ...           ...         ...   \n",
       "491072  pHC17  TTTGTTGCAGACGATG-1   4937.070936          1429    3.647245   \n",
       "491073  pHC17  TTTGTTGGTTGTCTAG-1   5651.379463          1414    5.594797   \n",
       "491074  pHC17  TTTGTTGTCCAATCCC-1   4847.938567          1366    6.769203   \n",
       "491075  pHC17  TTTGTTGTCCAGGACC-1   4392.073705          1381    4.001835   \n",
       "491076  pHC17  TTTGTTGTCGGACTTA-1   7511.698706          1779    5.417047   \n",
       "\n",
       "        percent.rb  Doublet_score  Is_doublet  Batch  Passes_QC  \n",
       "0        44.602450       0.133277       False      1       True  \n",
       "1         8.505857       0.045970       False      1      False  \n",
       "2        34.817887       0.052135       False      1       True  \n",
       "3        45.586655       0.172450       False      1       True  \n",
       "4        42.132947       0.111273       False      1       True  \n",
       "...            ...            ...         ...    ...        ...  \n",
       "491072   44.797781       0.097239       False     10       True  \n",
       "491073   47.947657       0.084416       False     10       True  \n",
       "491074   42.045732       0.033604       False     10       True  \n",
       "491075   42.678595       0.097239       False     10       True  \n",
       "491076   50.730873       0.146160       False     10       True  \n",
       "\n",
       "[491077 rows x 10 columns]"
      ]
     },
     "execution_count": 93,
     "metadata": {},
     "output_type": "execute_result"
    }
   ],
   "source": [
    "combinedtable"
   ]
  },
  {
   "cell_type": "code",
   "execution_count": 95,
   "metadata": {},
   "outputs": [],
   "source": [
    "#combinedtable.to_csv(\"QCSummary.txt\", index=False, sep=\"\\t\")"
   ]
  },
  {
   "cell_type": "code",
   "execution_count": 96,
   "metadata": {},
   "outputs": [],
   "source": [
    "\n",
    "def getSummaryTableData(table, sampleids):\n",
    "    mat = []\n",
    "    for cursample in sampleids:\n",
    "        sel = table['Sample'] == cursample\n",
    "        seltable = table[sel]\n",
    "        totalcells = len(seltable)\n",
    "        doublets = np.sum(seltable[\"Is_doublet\"] == True)\n",
    "        qcremoved = np.sum(seltable[\"Passes_QC\"] == False)-doublets\n",
    "        cellafterqc = np.sum(seltable[\"Passes_QC\"] == True)\n",
    "        mat.append([totalcells, doublets, qcremoved, cellafterqc])\n",
    "    return pd.DataFrame(mat, index=sampleids, columns=[\"Total Cells\", \"Doublets\", \"QC Filters\", \"Remaining Cells\"])"
   ]
  },
  {
   "cell_type": "code",
   "execution_count": 98,
   "metadata": {},
   "outputs": [
    {
     "data": {
      "text/html": [
       "<div>\n",
       "<style scoped>\n",
       "    .dataframe tbody tr th:only-of-type {\n",
       "        vertical-align: middle;\n",
       "    }\n",
       "\n",
       "    .dataframe tbody tr th {\n",
       "        vertical-align: top;\n",
       "    }\n",
       "\n",
       "    .dataframe thead th {\n",
       "        text-align: right;\n",
       "    }\n",
       "</style>\n",
       "<table border=\"1\" class=\"dataframe\">\n",
       "  <thead>\n",
       "    <tr style=\"text-align: right;\">\n",
       "      <th></th>\n",
       "      <th>Total Cells</th>\n",
       "      <th>Doublets</th>\n",
       "      <th>QC Filters</th>\n",
       "      <th>Remaining Cells</th>\n",
       "    </tr>\n",
       "  </thead>\n",
       "  <tbody>\n",
       "    <tr>\n",
       "      <th>pHC1</th>\n",
       "      <td>6716</td>\n",
       "      <td>6</td>\n",
       "      <td>1664</td>\n",
       "      <td>5046</td>\n",
       "    </tr>\n",
       "    <tr>\n",
       "      <th>pHC2</th>\n",
       "      <td>10004</td>\n",
       "      <td>359</td>\n",
       "      <td>2260</td>\n",
       "      <td>7385</td>\n",
       "    </tr>\n",
       "    <tr>\n",
       "      <th>pHC3</th>\n",
       "      <td>7709</td>\n",
       "      <td>187</td>\n",
       "      <td>1438</td>\n",
       "      <td>6084</td>\n",
       "    </tr>\n",
       "    <tr>\n",
       "      <th>pHC4</th>\n",
       "      <td>13293</td>\n",
       "      <td>3</td>\n",
       "      <td>5029</td>\n",
       "      <td>8261</td>\n",
       "    </tr>\n",
       "    <tr>\n",
       "      <th>pHC5</th>\n",
       "      <td>5041</td>\n",
       "      <td>27</td>\n",
       "      <td>895</td>\n",
       "      <td>4119</td>\n",
       "    </tr>\n",
       "    <tr>\n",
       "      <th>pHC6</th>\n",
       "      <td>4398</td>\n",
       "      <td>41</td>\n",
       "      <td>407</td>\n",
       "      <td>3950</td>\n",
       "    </tr>\n",
       "    <tr>\n",
       "      <th>pHC7</th>\n",
       "      <td>5429</td>\n",
       "      <td>20</td>\n",
       "      <td>1494</td>\n",
       "      <td>3915</td>\n",
       "    </tr>\n",
       "  </tbody>\n",
       "</table>\n",
       "</div>"
      ],
      "text/plain": [
       "      Total Cells  Doublets  QC Filters  Remaining Cells\n",
       "pHC1         6716         6        1664             5046\n",
       "pHC2        10004       359        2260             7385\n",
       "pHC3         7709       187        1438             6084\n",
       "pHC4        13293         3        5029             8261\n",
       "pHC5         5041        27         895             4119\n",
       "pHC6         4398        41         407             3950\n",
       "pHC7         5429        20        1494             3915"
      ]
     },
     "execution_count": 98,
     "metadata": {},
     "output_type": "execute_result"
    }
   ],
   "source": [
    "sampleist = [\n",
    "    \"pHC1\",\n",
    "\"pHC2\",\n",
    "\"pHC3\",\n",
    "\"pHC4\",\n",
    "\"pHC5\",\n",
    "\"pHC6\",\n",
    "\"pHC7\"\n",
    "]\n",
    "getSummaryTableData(combinedtable, sampleist)"
   ]
  },
  {
   "cell_type": "code",
   "execution_count": 99,
   "metadata": {
    "scrolled": true
   },
   "outputs": [
    {
     "data": {
      "text/html": [
       "<div>\n",
       "<style scoped>\n",
       "    .dataframe tbody tr th:only-of-type {\n",
       "        vertical-align: middle;\n",
       "    }\n",
       "\n",
       "    .dataframe tbody tr th {\n",
       "        vertical-align: top;\n",
       "    }\n",
       "\n",
       "    .dataframe thead th {\n",
       "        text-align: right;\n",
       "    }\n",
       "</style>\n",
       "<table border=\"1\" class=\"dataframe\">\n",
       "  <thead>\n",
       "    <tr style=\"text-align: right;\">\n",
       "      <th></th>\n",
       "      <th>Total Cells</th>\n",
       "      <th>Doublets</th>\n",
       "      <th>QC Filters</th>\n",
       "      <th>Remaining Cells</th>\n",
       "    </tr>\n",
       "  </thead>\n",
       "  <tbody>\n",
       "    <tr>\n",
       "      <th>pCoV1</th>\n",
       "      <td>5723</td>\n",
       "      <td>157</td>\n",
       "      <td>1016</td>\n",
       "      <td>4550</td>\n",
       "    </tr>\n",
       "    <tr>\n",
       "      <th>pCoV2</th>\n",
       "      <td>3191</td>\n",
       "      <td>18</td>\n",
       "      <td>332</td>\n",
       "      <td>2841</td>\n",
       "    </tr>\n",
       "    <tr>\n",
       "      <th>pCoV3</th>\n",
       "      <td>5427</td>\n",
       "      <td>168</td>\n",
       "      <td>313</td>\n",
       "      <td>4946</td>\n",
       "    </tr>\n",
       "    <tr>\n",
       "      <th>pCoV4</th>\n",
       "      <td>7402</td>\n",
       "      <td>293</td>\n",
       "      <td>1823</td>\n",
       "      <td>5286</td>\n",
       "    </tr>\n",
       "    <tr>\n",
       "      <th>pCoV5</th>\n",
       "      <td>6827</td>\n",
       "      <td>153</td>\n",
       "      <td>527</td>\n",
       "      <td>6147</td>\n",
       "    </tr>\n",
       "    <tr>\n",
       "      <th>pOI1</th>\n",
       "      <td>7013</td>\n",
       "      <td>258</td>\n",
       "      <td>499</td>\n",
       "      <td>6256</td>\n",
       "    </tr>\n",
       "  </tbody>\n",
       "</table>\n",
       "</div>"
      ],
      "text/plain": [
       "       Total Cells  Doublets  QC Filters  Remaining Cells\n",
       "pCoV1         5723       157        1016             4550\n",
       "pCoV2         3191        18         332             2841\n",
       "pCoV3         5427       168         313             4946\n",
       "pCoV4         7402       293        1823             5286\n",
       "pCoV5         6827       153         527             6147\n",
       "pOI1          7013       258         499             6256"
      ]
     },
     "execution_count": 99,
     "metadata": {},
     "output_type": "execute_result"
    }
   ],
   "source": [
    "sampleist = [\n",
    "\"pCoV1\",\n",
    "\"pCoV2\",\n",
    "\"pCoV3\",\n",
    "\"pCoV4\",\n",
    "\"pCoV5\",\n",
    "\"pOI1\"\n",
    "]\n",
    "getSummaryTableData(combinedtable, sampleist)"
   ]
  },
  {
   "cell_type": "code",
   "execution_count": 100,
   "metadata": {},
   "outputs": [
    {
     "data": {
      "text/html": [
       "<div>\n",
       "<style scoped>\n",
       "    .dataframe tbody tr th:only-of-type {\n",
       "        vertical-align: middle;\n",
       "    }\n",
       "\n",
       "    .dataframe tbody tr th {\n",
       "        vertical-align: top;\n",
       "    }\n",
       "\n",
       "    .dataframe thead th {\n",
       "        text-align: right;\n",
       "    }\n",
       "</style>\n",
       "<table border=\"1\" class=\"dataframe\">\n",
       "  <thead>\n",
       "    <tr style=\"text-align: right;\">\n",
       "      <th></th>\n",
       "      <th>Total Cells</th>\n",
       "      <th>Doublets</th>\n",
       "      <th>QC Filters</th>\n",
       "      <th>Remaining Cells</th>\n",
       "    </tr>\n",
       "  </thead>\n",
       "  <tbody>\n",
       "    <tr>\n",
       "      <th>pCoV6</th>\n",
       "      <td>9413</td>\n",
       "      <td>4</td>\n",
       "      <td>434</td>\n",
       "      <td>8975</td>\n",
       "    </tr>\n",
       "    <tr>\n",
       "      <th>pCoV7</th>\n",
       "      <td>5781</td>\n",
       "      <td>230</td>\n",
       "      <td>718</td>\n",
       "      <td>4833</td>\n",
       "    </tr>\n",
       "    <tr>\n",
       "      <th>pCoV8</th>\n",
       "      <td>6854</td>\n",
       "      <td>13</td>\n",
       "      <td>511</td>\n",
       "      <td>6330</td>\n",
       "    </tr>\n",
       "    <tr>\n",
       "      <th>pCoV9</th>\n",
       "      <td>5732</td>\n",
       "      <td>156</td>\n",
       "      <td>407</td>\n",
       "      <td>5169</td>\n",
       "    </tr>\n",
       "    <tr>\n",
       "      <th>pHC8</th>\n",
       "      <td>6974</td>\n",
       "      <td>125</td>\n",
       "      <td>312</td>\n",
       "      <td>6537</td>\n",
       "    </tr>\n",
       "  </tbody>\n",
       "</table>\n",
       "</div>"
      ],
      "text/plain": [
       "       Total Cells  Doublets  QC Filters  Remaining Cells\n",
       "pCoV6         9413         4         434             8975\n",
       "pCoV7         5781       230         718             4833\n",
       "pCoV8         6854        13         511             6330\n",
       "pCoV9         5732       156         407             5169\n",
       "pHC8          6974       125         312             6537"
      ]
     },
     "execution_count": 100,
     "metadata": {},
     "output_type": "execute_result"
    }
   ],
   "source": [
    "sampleist = [\"pCoV6\",\n",
    "\"pCoV7\",\n",
    "\"pCoV8\",\n",
    "\"pCoV9\",\n",
    "\"pHC8\"]\n",
    "getSummaryTableData(combinedtable, sampleist)"
   ]
  },
  {
   "cell_type": "code",
   "execution_count": 104,
   "metadata": {},
   "outputs": [
    {
     "data": {
      "text/html": [
       "<div>\n",
       "<style scoped>\n",
       "    .dataframe tbody tr th:only-of-type {\n",
       "        vertical-align: middle;\n",
       "    }\n",
       "\n",
       "    .dataframe tbody tr th {\n",
       "        vertical-align: top;\n",
       "    }\n",
       "\n",
       "    .dataframe thead th {\n",
       "        text-align: right;\n",
       "    }\n",
       "</style>\n",
       "<table border=\"1\" class=\"dataframe\">\n",
       "  <thead>\n",
       "    <tr style=\"text-align: right;\">\n",
       "      <th></th>\n",
       "      <th>Total Cells</th>\n",
       "      <th>Doublets</th>\n",
       "      <th>QC Filters</th>\n",
       "      <th>Remaining Cells</th>\n",
       "    </tr>\n",
       "  </thead>\n",
       "  <tbody>\n",
       "    <tr>\n",
       "      <th>pCoV10</th>\n",
       "      <td>6599</td>\n",
       "      <td>153</td>\n",
       "      <td>1925</td>\n",
       "      <td>4521</td>\n",
       "    </tr>\n",
       "    <tr>\n",
       "      <th>pCoV11</th>\n",
       "      <td>3637</td>\n",
       "      <td>146</td>\n",
       "      <td>1172</td>\n",
       "      <td>2319</td>\n",
       "    </tr>\n",
       "    <tr>\n",
       "      <th>pRSV1</th>\n",
       "      <td>5194</td>\n",
       "      <td>164</td>\n",
       "      <td>2562</td>\n",
       "      <td>2468</td>\n",
       "    </tr>\n",
       "    <tr>\n",
       "      <th>pRSV2</th>\n",
       "      <td>4295</td>\n",
       "      <td>48</td>\n",
       "      <td>2247</td>\n",
       "      <td>2000</td>\n",
       "    </tr>\n",
       "    <tr>\n",
       "      <th>pRSV3</th>\n",
       "      <td>6694</td>\n",
       "      <td>222</td>\n",
       "      <td>1702</td>\n",
       "      <td>4770</td>\n",
       "    </tr>\n",
       "    <tr>\n",
       "      <th>pRSV4</th>\n",
       "      <td>6546</td>\n",
       "      <td>162</td>\n",
       "      <td>2261</td>\n",
       "      <td>4123</td>\n",
       "    </tr>\n",
       "    <tr>\n",
       "      <th>pHC9</th>\n",
       "      <td>5912</td>\n",
       "      <td>73</td>\n",
       "      <td>1783</td>\n",
       "      <td>4056</td>\n",
       "    </tr>\n",
       "  </tbody>\n",
       "</table>\n",
       "</div>"
      ],
      "text/plain": [
       "        Total Cells  Doublets  QC Filters  Remaining Cells\n",
       "pCoV10         6599       153        1925             4521\n",
       "pCoV11         3637       146        1172             2319\n",
       "pRSV1          5194       164        2562             2468\n",
       "pRSV2          4295        48        2247             2000\n",
       "pRSV3          6694       222        1702             4770\n",
       "pRSV4          6546       162        2261             4123\n",
       "pHC9           5912        73        1783             4056"
      ]
     },
     "execution_count": 104,
     "metadata": {},
     "output_type": "execute_result"
    }
   ],
   "source": [
    "sampleist = [\n",
    "\"pCoV10\",\n",
    "\"pCoV11\",\n",
    "\"pRSV1\",\n",
    "\"pRSV2\",\n",
    "\"pRSV3\",\n",
    "\"pRSV4\",\n",
    "\"pHC9\"]\n",
    "\n",
    "getSummaryTableData(combinedtable, sampleist)"
   ]
  },
  {
   "cell_type": "code",
   "execution_count": 105,
   "metadata": {},
   "outputs": [
    {
     "data": {
      "text/html": [
       "<div>\n",
       "<style scoped>\n",
       "    .dataframe tbody tr th:only-of-type {\n",
       "        vertical-align: middle;\n",
       "    }\n",
       "\n",
       "    .dataframe tbody tr th {\n",
       "        vertical-align: top;\n",
       "    }\n",
       "\n",
       "    .dataframe thead th {\n",
       "        text-align: right;\n",
       "    }\n",
       "</style>\n",
       "<table border=\"1\" class=\"dataframe\">\n",
       "  <thead>\n",
       "    <tr style=\"text-align: right;\">\n",
       "      <th></th>\n",
       "      <th>Total Cells</th>\n",
       "      <th>Doublets</th>\n",
       "      <th>QC Filters</th>\n",
       "      <th>Remaining Cells</th>\n",
       "    </tr>\n",
       "  </thead>\n",
       "  <tbody>\n",
       "    <tr>\n",
       "      <th>pCoV12</th>\n",
       "      <td>7806</td>\n",
       "      <td>71</td>\n",
       "      <td>1426</td>\n",
       "      <td>6309</td>\n",
       "    </tr>\n",
       "    <tr>\n",
       "      <th>pCoV13</th>\n",
       "      <td>6444</td>\n",
       "      <td>185</td>\n",
       "      <td>571</td>\n",
       "      <td>5688</td>\n",
       "    </tr>\n",
       "    <tr>\n",
       "      <th>pCoV14</th>\n",
       "      <td>6556</td>\n",
       "      <td>191</td>\n",
       "      <td>617</td>\n",
       "      <td>5748</td>\n",
       "    </tr>\n",
       "    <tr>\n",
       "      <th>pRSV5</th>\n",
       "      <td>7381</td>\n",
       "      <td>234</td>\n",
       "      <td>868</td>\n",
       "      <td>6279</td>\n",
       "    </tr>\n",
       "    <tr>\n",
       "      <th>pRSV6</th>\n",
       "      <td>7849</td>\n",
       "      <td>243</td>\n",
       "      <td>1135</td>\n",
       "      <td>6471</td>\n",
       "    </tr>\n",
       "    <tr>\n",
       "      <th>pRSV7</th>\n",
       "      <td>6789</td>\n",
       "      <td>167</td>\n",
       "      <td>974</td>\n",
       "      <td>5648</td>\n",
       "    </tr>\n",
       "    <tr>\n",
       "      <th>pRSV8</th>\n",
       "      <td>8241</td>\n",
       "      <td>323</td>\n",
       "      <td>912</td>\n",
       "      <td>7006</td>\n",
       "    </tr>\n",
       "    <tr>\n",
       "      <th>pHC10</th>\n",
       "      <td>7358</td>\n",
       "      <td>231</td>\n",
       "      <td>690</td>\n",
       "      <td>6437</td>\n",
       "    </tr>\n",
       "  </tbody>\n",
       "</table>\n",
       "</div>"
      ],
      "text/plain": [
       "        Total Cells  Doublets  QC Filters  Remaining Cells\n",
       "pCoV12         7806        71        1426             6309\n",
       "pCoV13         6444       185         571             5688\n",
       "pCoV14         6556       191         617             5748\n",
       "pRSV5          7381       234         868             6279\n",
       "pRSV6          7849       243        1135             6471\n",
       "pRSV7          6789       167         974             5648\n",
       "pRSV8          8241       323         912             7006\n",
       "pHC10          7358       231         690             6437"
      ]
     },
     "execution_count": 105,
     "metadata": {},
     "output_type": "execute_result"
    }
   ],
   "source": [
    "sampleist = [\n",
    "\"pCoV12\",\n",
    "\"pCoV13\",\n",
    "\"pCoV14\",\n",
    "\"pRSV5\",\n",
    "\"pRSV6\",\n",
    "\"pRSV7\",\n",
    "\"pRSV8\",\n",
    "\"pHC10\"]\n",
    "\n",
    "getSummaryTableData(combinedtable, sampleist)"
   ]
  },
  {
   "cell_type": "code",
   "execution_count": 106,
   "metadata": {},
   "outputs": [
    {
     "data": {
      "text/html": [
       "<div>\n",
       "<style scoped>\n",
       "    .dataframe tbody tr th:only-of-type {\n",
       "        vertical-align: middle;\n",
       "    }\n",
       "\n",
       "    .dataframe tbody tr th {\n",
       "        vertical-align: top;\n",
       "    }\n",
       "\n",
       "    .dataframe thead th {\n",
       "        text-align: right;\n",
       "    }\n",
       "</style>\n",
       "<table border=\"1\" class=\"dataframe\">\n",
       "  <thead>\n",
       "    <tr style=\"text-align: right;\">\n",
       "      <th></th>\n",
       "      <th>Total Cells</th>\n",
       "      <th>Doublets</th>\n",
       "      <th>QC Filters</th>\n",
       "      <th>Remaining Cells</th>\n",
       "    </tr>\n",
       "  </thead>\n",
       "  <tbody>\n",
       "    <tr>\n",
       "      <th>pCoV15</th>\n",
       "      <td>9456</td>\n",
       "      <td>247</td>\n",
       "      <td>1776</td>\n",
       "      <td>7433</td>\n",
       "    </tr>\n",
       "    <tr>\n",
       "      <th>pCoV16</th>\n",
       "      <td>6447</td>\n",
       "      <td>120</td>\n",
       "      <td>780</td>\n",
       "      <td>5547</td>\n",
       "    </tr>\n",
       "    <tr>\n",
       "      <th>pCoV17</th>\n",
       "      <td>4275</td>\n",
       "      <td>53</td>\n",
       "      <td>1449</td>\n",
       "      <td>2773</td>\n",
       "    </tr>\n",
       "    <tr>\n",
       "      <th>pCoV18</th>\n",
       "      <td>7725</td>\n",
       "      <td>86</td>\n",
       "      <td>961</td>\n",
       "      <td>6678</td>\n",
       "    </tr>\n",
       "    <tr>\n",
       "      <th>pCoV19</th>\n",
       "      <td>14008</td>\n",
       "      <td>4</td>\n",
       "      <td>6986</td>\n",
       "      <td>7018</td>\n",
       "    </tr>\n",
       "    <tr>\n",
       "      <th>pCoV20</th>\n",
       "      <td>8842</td>\n",
       "      <td>223</td>\n",
       "      <td>1411</td>\n",
       "      <td>7208</td>\n",
       "    </tr>\n",
       "    <tr>\n",
       "      <th>pHC11</th>\n",
       "      <td>10605</td>\n",
       "      <td>347</td>\n",
       "      <td>1203</td>\n",
       "      <td>9055</td>\n",
       "    </tr>\n",
       "    <tr>\n",
       "      <th>pHC12</th>\n",
       "      <td>9204</td>\n",
       "      <td>251</td>\n",
       "      <td>1301</td>\n",
       "      <td>7652</td>\n",
       "    </tr>\n",
       "  </tbody>\n",
       "</table>\n",
       "</div>"
      ],
      "text/plain": [
       "        Total Cells  Doublets  QC Filters  Remaining Cells\n",
       "pCoV15         9456       247        1776             7433\n",
       "pCoV16         6447       120         780             5547\n",
       "pCoV17         4275        53        1449             2773\n",
       "pCoV18         7725        86         961             6678\n",
       "pCoV19        14008         4        6986             7018\n",
       "pCoV20         8842       223        1411             7208\n",
       "pHC11         10605       347        1203             9055\n",
       "pHC12          9204       251        1301             7652"
      ]
     },
     "execution_count": 106,
     "metadata": {},
     "output_type": "execute_result"
    }
   ],
   "source": [
    "samplelist = [\n",
    "    \"pCoV15\",\n",
    "\"pCoV16\",\n",
    "\"pCoV17\",\n",
    "\"pCoV18\",\n",
    "\"pCoV19\",\n",
    "\"pCoV20\",\n",
    "\"pHC11\",\n",
    "\"pHC12\"\n",
    "]\n",
    "getSummaryTableData(combinedtable, samplelist)"
   ]
  },
  {
   "cell_type": "code",
   "execution_count": 107,
   "metadata": {},
   "outputs": [
    {
     "data": {
      "text/html": [
       "<div>\n",
       "<style scoped>\n",
       "    .dataframe tbody tr th:only-of-type {\n",
       "        vertical-align: middle;\n",
       "    }\n",
       "\n",
       "    .dataframe tbody tr th {\n",
       "        vertical-align: top;\n",
       "    }\n",
       "\n",
       "    .dataframe thead th {\n",
       "        text-align: right;\n",
       "    }\n",
       "</style>\n",
       "<table border=\"1\" class=\"dataframe\">\n",
       "  <thead>\n",
       "    <tr style=\"text-align: right;\">\n",
       "      <th></th>\n",
       "      <th>Total Cells</th>\n",
       "      <th>Doublets</th>\n",
       "      <th>QC Filters</th>\n",
       "      <th>Remaining Cells</th>\n",
       "    </tr>\n",
       "  </thead>\n",
       "  <tbody>\n",
       "    <tr>\n",
       "      <th>pCoV21</th>\n",
       "      <td>6761</td>\n",
       "      <td>173</td>\n",
       "      <td>972</td>\n",
       "      <td>5616</td>\n",
       "    </tr>\n",
       "    <tr>\n",
       "      <th>pCoV22</th>\n",
       "      <td>10750</td>\n",
       "      <td>5</td>\n",
       "      <td>4094</td>\n",
       "      <td>6651</td>\n",
       "    </tr>\n",
       "    <tr>\n",
       "      <th>pCoV23</th>\n",
       "      <td>9367</td>\n",
       "      <td>307</td>\n",
       "      <td>957</td>\n",
       "      <td>8103</td>\n",
       "    </tr>\n",
       "    <tr>\n",
       "      <th>pCoV24</th>\n",
       "      <td>4960</td>\n",
       "      <td>96</td>\n",
       "      <td>854</td>\n",
       "      <td>4010</td>\n",
       "    </tr>\n",
       "    <tr>\n",
       "      <th>pCoV25</th>\n",
       "      <td>10788</td>\n",
       "      <td>389</td>\n",
       "      <td>1238</td>\n",
       "      <td>9161</td>\n",
       "    </tr>\n",
       "    <tr>\n",
       "      <th>pCoV26</th>\n",
       "      <td>8544</td>\n",
       "      <td>182</td>\n",
       "      <td>811</td>\n",
       "      <td>7551</td>\n",
       "    </tr>\n",
       "    <tr>\n",
       "      <th>pHC13</th>\n",
       "      <td>10437</td>\n",
       "      <td>352</td>\n",
       "      <td>1282</td>\n",
       "      <td>8803</td>\n",
       "    </tr>\n",
       "    <tr>\n",
       "      <th>pHC14</th>\n",
       "      <td>8576</td>\n",
       "      <td>208</td>\n",
       "      <td>791</td>\n",
       "      <td>7577</td>\n",
       "    </tr>\n",
       "  </tbody>\n",
       "</table>\n",
       "</div>"
      ],
      "text/plain": [
       "        Total Cells  Doublets  QC Filters  Remaining Cells\n",
       "pCoV21         6761       173         972             5616\n",
       "pCoV22        10750         5        4094             6651\n",
       "pCoV23         9367       307         957             8103\n",
       "pCoV24         4960        96         854             4010\n",
       "pCoV25        10788       389        1238             9161\n",
       "pCoV26         8544       182         811             7551\n",
       "pHC13         10437       352        1282             8803\n",
       "pHC14          8576       208         791             7577"
      ]
     },
     "execution_count": 107,
     "metadata": {},
     "output_type": "execute_result"
    }
   ],
   "source": [
    "samplelist = [\n",
    "    \"pCoV21\",\n",
    "\"pCoV22\",\n",
    "\"pCoV23\",\n",
    "\"pCoV24\",\n",
    "\"pCoV25\",\n",
    "\"pCoV26\",\n",
    "\"pHC13\",\n",
    "\"pHC14\"\n",
    "]\n",
    "getSummaryTableData(combinedtable, samplelist)"
   ]
  },
  {
   "cell_type": "code",
   "execution_count": 109,
   "metadata": {},
   "outputs": [
    {
     "data": {
      "text/html": [
       "<div>\n",
       "<style scoped>\n",
       "    .dataframe tbody tr th:only-of-type {\n",
       "        vertical-align: middle;\n",
       "    }\n",
       "\n",
       "    .dataframe tbody tr th {\n",
       "        vertical-align: top;\n",
       "    }\n",
       "\n",
       "    .dataframe thead th {\n",
       "        text-align: right;\n",
       "    }\n",
       "</style>\n",
       "<table border=\"1\" class=\"dataframe\">\n",
       "  <thead>\n",
       "    <tr style=\"text-align: right;\">\n",
       "      <th></th>\n",
       "      <th>Total Cells</th>\n",
       "      <th>Doublets</th>\n",
       "      <th>QC Filters</th>\n",
       "      <th>Remaining Cells</th>\n",
       "    </tr>\n",
       "  </thead>\n",
       "  <tbody>\n",
       "    <tr>\n",
       "      <th>pCoV27</th>\n",
       "      <td>4234</td>\n",
       "      <td>64</td>\n",
       "      <td>597</td>\n",
       "      <td>3573</td>\n",
       "    </tr>\n",
       "    <tr>\n",
       "      <th>pCoV28</th>\n",
       "      <td>8403</td>\n",
       "      <td>13</td>\n",
       "      <td>2569</td>\n",
       "      <td>5821</td>\n",
       "    </tr>\n",
       "    <tr>\n",
       "      <th>pRSV9</th>\n",
       "      <td>6978</td>\n",
       "      <td>53</td>\n",
       "      <td>1440</td>\n",
       "      <td>5485</td>\n",
       "    </tr>\n",
       "    <tr>\n",
       "      <th>pRSV10</th>\n",
       "      <td>7536</td>\n",
       "      <td>188</td>\n",
       "      <td>999</td>\n",
       "      <td>6349</td>\n",
       "    </tr>\n",
       "    <tr>\n",
       "      <th>pRSV14</th>\n",
       "      <td>6332</td>\n",
       "      <td>102</td>\n",
       "      <td>822</td>\n",
       "      <td>5408</td>\n",
       "    </tr>\n",
       "    <tr>\n",
       "      <th>pHC15</th>\n",
       "      <td>8296</td>\n",
       "      <td>155</td>\n",
       "      <td>1238</td>\n",
       "      <td>6903</td>\n",
       "    </tr>\n",
       "  </tbody>\n",
       "</table>\n",
       "</div>"
      ],
      "text/plain": [
       "        Total Cells  Doublets  QC Filters  Remaining Cells\n",
       "pCoV27         4234        64         597             3573\n",
       "pCoV28         8403        13        2569             5821\n",
       "pRSV9          6978        53        1440             5485\n",
       "pRSV10         7536       188         999             6349\n",
       "pRSV14         6332       102         822             5408\n",
       "pHC15          8296       155        1238             6903"
      ]
     },
     "execution_count": 109,
     "metadata": {},
     "output_type": "execute_result"
    }
   ],
   "source": [
    "samplelist = [\n",
    "\"pCoV27\",\n",
    "\"pCoV28\",\n",
    "\"pRSV9\",\n",
    "\"pRSV10\",\n",
    "\"pRSV14\",\n",
    "\"pHC15\"\n",
    "]\n",
    "getSummaryTableData(combinedtable, samplelist)"
   ]
  },
  {
   "cell_type": "code",
   "execution_count": 110,
   "metadata": {},
   "outputs": [
    {
     "data": {
      "text/html": [
       "<div>\n",
       "<style scoped>\n",
       "    .dataframe tbody tr th:only-of-type {\n",
       "        vertical-align: middle;\n",
       "    }\n",
       "\n",
       "    .dataframe tbody tr th {\n",
       "        vertical-align: top;\n",
       "    }\n",
       "\n",
       "    .dataframe thead th {\n",
       "        text-align: right;\n",
       "    }\n",
       "</style>\n",
       "<table border=\"1\" class=\"dataframe\">\n",
       "  <thead>\n",
       "    <tr style=\"text-align: right;\">\n",
       "      <th></th>\n",
       "      <th>Total Cells</th>\n",
       "      <th>Doublets</th>\n",
       "      <th>QC Filters</th>\n",
       "      <th>Remaining Cells</th>\n",
       "    </tr>\n",
       "  </thead>\n",
       "  <tbody>\n",
       "    <tr>\n",
       "      <th>pCoV29</th>\n",
       "      <td>7102</td>\n",
       "      <td>278</td>\n",
       "      <td>3141</td>\n",
       "      <td>3683</td>\n",
       "    </tr>\n",
       "    <tr>\n",
       "      <th>pCoV30</th>\n",
       "      <td>6271</td>\n",
       "      <td>123</td>\n",
       "      <td>736</td>\n",
       "      <td>5412</td>\n",
       "    </tr>\n",
       "    <tr>\n",
       "      <th>pRSV12</th>\n",
       "      <td>7327</td>\n",
       "      <td>162</td>\n",
       "      <td>1007</td>\n",
       "      <td>6158</td>\n",
       "    </tr>\n",
       "    <tr>\n",
       "      <th>pRSV11</th>\n",
       "      <td>4608</td>\n",
       "      <td>73</td>\n",
       "      <td>506</td>\n",
       "      <td>4029</td>\n",
       "    </tr>\n",
       "    <tr>\n",
       "      <th>pRSV15</th>\n",
       "      <td>5035</td>\n",
       "      <td>13</td>\n",
       "      <td>733</td>\n",
       "      <td>4289</td>\n",
       "    </tr>\n",
       "    <tr>\n",
       "      <th>pHC16</th>\n",
       "      <td>6999</td>\n",
       "      <td>134</td>\n",
       "      <td>682</td>\n",
       "      <td>6183</td>\n",
       "    </tr>\n",
       "  </tbody>\n",
       "</table>\n",
       "</div>"
      ],
      "text/plain": [
       "        Total Cells  Doublets  QC Filters  Remaining Cells\n",
       "pCoV29         7102       278        3141             3683\n",
       "pCoV30         6271       123         736             5412\n",
       "pRSV12         7327       162        1007             6158\n",
       "pRSV11         4608        73         506             4029\n",
       "pRSV15         5035        13         733             4289\n",
       "pHC16          6999       134         682             6183"
      ]
     },
     "execution_count": 110,
     "metadata": {},
     "output_type": "execute_result"
    }
   ],
   "source": [
    "samplelist = [\n",
    "\"pCoV29\",\n",
    "\"pCoV30\",\n",
    "\"pRSV12\",\n",
    "\"pRSV11\",\n",
    "\"pRSV15\",\n",
    "\"pHC16\"\n",
    "]\n",
    "getSummaryTableData(combinedtable, samplelist)"
   ]
  },
  {
   "cell_type": "code",
   "execution_count": 111,
   "metadata": {},
   "outputs": [
    {
     "data": {
      "text/html": [
       "<div>\n",
       "<style scoped>\n",
       "    .dataframe tbody tr th:only-of-type {\n",
       "        vertical-align: middle;\n",
       "    }\n",
       "\n",
       "    .dataframe tbody tr th {\n",
       "        vertical-align: top;\n",
       "    }\n",
       "\n",
       "    .dataframe thead th {\n",
       "        text-align: right;\n",
       "    }\n",
       "</style>\n",
       "<table border=\"1\" class=\"dataframe\">\n",
       "  <thead>\n",
       "    <tr style=\"text-align: right;\">\n",
       "      <th></th>\n",
       "      <th>Total Cells</th>\n",
       "      <th>Doublets</th>\n",
       "      <th>QC Filters</th>\n",
       "      <th>Remaining Cells</th>\n",
       "    </tr>\n",
       "  </thead>\n",
       "  <tbody>\n",
       "    <tr>\n",
       "      <th>pCoV31</th>\n",
       "      <td>5771</td>\n",
       "      <td>74</td>\n",
       "      <td>758</td>\n",
       "      <td>4939</td>\n",
       "    </tr>\n",
       "    <tr>\n",
       "      <th>pRSV13</th>\n",
       "      <td>8480</td>\n",
       "      <td>274</td>\n",
       "      <td>2368</td>\n",
       "      <td>5838</td>\n",
       "    </tr>\n",
       "    <tr>\n",
       "      <th>pRSV18</th>\n",
       "      <td>7066</td>\n",
       "      <td>190</td>\n",
       "      <td>975</td>\n",
       "      <td>5901</td>\n",
       "    </tr>\n",
       "    <tr>\n",
       "      <th>pRSV16</th>\n",
       "      <td>6025</td>\n",
       "      <td>224</td>\n",
       "      <td>1399</td>\n",
       "      <td>4402</td>\n",
       "    </tr>\n",
       "    <tr>\n",
       "      <th>pRSV17</th>\n",
       "      <td>8375</td>\n",
       "      <td>170</td>\n",
       "      <td>1087</td>\n",
       "      <td>7118</td>\n",
       "    </tr>\n",
       "    <tr>\n",
       "      <th>pRSV19</th>\n",
       "      <td>7204</td>\n",
       "      <td>74</td>\n",
       "      <td>1434</td>\n",
       "      <td>5696</td>\n",
       "    </tr>\n",
       "    <tr>\n",
       "      <th>pHC17</th>\n",
       "      <td>8062</td>\n",
       "      <td>204</td>\n",
       "      <td>1126</td>\n",
       "      <td>6732</td>\n",
       "    </tr>\n",
       "  </tbody>\n",
       "</table>\n",
       "</div>"
      ],
      "text/plain": [
       "        Total Cells  Doublets  QC Filters  Remaining Cells\n",
       "pCoV31         5771        74         758             4939\n",
       "pRSV13         8480       274        2368             5838\n",
       "pRSV18         7066       190         975             5901\n",
       "pRSV16         6025       224        1399             4402\n",
       "pRSV17         8375       170        1087             7118\n",
       "pRSV19         7204        74        1434             5696\n",
       "pHC17          8062       204        1126             6732"
      ]
     },
     "execution_count": 111,
     "metadata": {},
     "output_type": "execute_result"
    }
   ],
   "source": [
    "samplelist = [\n",
    "    \"pCoV31\",\n",
    "\"pRSV13\",\n",
    "\"pRSV18\",\n",
    "\"pRSV16\",\n",
    "\"pRSV17\",\n",
    "\"pRSV19\",\n",
    "\"pHC17\"\n",
    "]\n",
    "getSummaryTableData(combinedtable, samplelist)"
   ]
  },
  {
   "cell_type": "code",
   "execution_count": null,
   "metadata": {},
   "outputs": [],
   "source": []
  },
  {
   "cell_type": "code",
   "execution_count": null,
   "metadata": {},
   "outputs": [],
   "source": []
  }
 ],
 "metadata": {
  "kernelspec": {
   "display_name": "Python 3",
   "language": "python",
   "name": "python3"
  },
  "language_info": {
   "codemirror_mode": {
    "name": "ipython",
    "version": 3
   },
   "file_extension": ".py",
   "mimetype": "text/x-python",
   "name": "python",
   "nbconvert_exporter": "python",
   "pygments_lexer": "ipython3",
   "version": "3.7.6"
  }
 },
 "nbformat": 4,
 "nbformat_minor": 4
}
